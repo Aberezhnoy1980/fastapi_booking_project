{
 "cells": [
  {
   "cell_type": "code",
   "execution_count": 1,
   "metadata": {},
   "outputs": [],
   "source": [
    "import time\n",
    "import asyncio"
   ]
  },
  {
   "cell_type": "code",
   "execution_count": 7,
   "metadata": {},
   "outputs": [],
   "source": [
    "def get_data_from_database(query: str):\n",
    "    print(f\"получен запрос {query}\")\n",
    "    if query == \"Сочи\":\n",
    "        time.sleep(4)\n",
    "    elif query == \"Дубай\":\n",
    "        time.sleep(2)\n",
    "    print(f\"Данные получены: {query}\")"
   ]
  },
  {
   "cell_type": "code",
   "execution_count": 8,
   "metadata": {},
   "outputs": [
    {
     "name": "stdout",
     "output_type": "stream",
     "text": [
      "получен запрос Сочи\n",
      "Данные получены: Сочи\n",
      "получен запрос Дубай\n",
      "Данные получены: Дубай\n"
     ]
    }
   ],
   "source": [
    "get_data_from_database(\"Сочи\")\n",
    "get_data_from_database(\"Дубай\")"
   ]
  },
  {
   "cell_type": "code",
   "execution_count": 9,
   "metadata": {},
   "outputs": [],
   "source": [
    "async def get_data_from_db_async(query: str):\n",
    "    print(f\"Получен запрос {query}\")\n",
    "    if query == \"Сочи\":\n",
    "        await asyncio.sleep(4)\n",
    "    elif query == \"Дубай\":\n",
    "        await asyncio.sleep(2)\n",
    "    print(f\"Данные получечны: {query}\")"
   ]
  },
  {
   "cell_type": "code",
   "execution_count": 10,
   "metadata": {},
   "outputs": [
    {
     "name": "stdout",
     "output_type": "stream",
     "text": [
      "Получен запрос Сочи\n",
      "Данные получечны: Сочи\n",
      "Получен запрос Дубай\n",
      "Данные получечны: Дубай\n"
     ]
    }
   ],
   "source": [
    "await get_data_from_db_async(\"Сочи\")\n",
    "await get_data_from_db_async(\"Дубай\")"
   ]
  },
  {
   "cell_type": "code",
   "execution_count": 11,
   "metadata": {},
   "outputs": [
    {
     "name": "stdout",
     "output_type": "stream",
     "text": [
      "Получен запрос Сочи\n",
      "Получен запрос Дубай\n",
      "Данные получечны: Дубай\n",
      "Данные получечны: Сочи\n"
     ]
    }
   ],
   "source": [
    "result_sochi, result_dubai = await asyncio.gather(\n",
    "    get_data_from_db_async(\"Сочи\"),\n",
    "    get_data_from_db_async(\"Дубай\")\n",
    ")"
   ]
  },
  {
   "cell_type": "code",
   "execution_count": 12,
   "metadata": {},
   "outputs": [
    {
     "name": "stdout",
     "output_type": "stream",
     "text": [
      "Получен запрос Сочи\n",
      "Получен запрос Дубай\n",
      "Данные получечны: Дубай\n",
      "Данные получечны: Сочи\n"
     ]
    }
   ],
   "source": [
    "task1 = asyncio.create_task(get_data_from_db_async(\"Сочи\"))\n",
    "task2 = asyncio.create_task(get_data_from_db_async(\"Дубай\"))"
   ]
  },
  {
   "cell_type": "code",
   "execution_count": 13,
   "metadata": {},
   "outputs": [
    {
     "name": "stdout",
     "output_type": "stream",
     "text": [
      "Получен запрос Сочи\n",
      "Получен запрос Сочи\n",
      "Получен запрос Сочи\n",
      "Получен запрос Сочи\n",
      "Получен запрос Сочи\n",
      "Получен запрос Сочи\n",
      "Получен запрос Сочи\n",
      "Получен запрос Дубай\n",
      "Получен запрос Дубай\n",
      "Получен запрос Дубай\n",
      "Получен запрос Дубай\n",
      "Получен запрос Дубай\n",
      "Получен запрос Дубай\n",
      "Данные получечны: Дубай\n",
      "Данные получечны: Дубай\n",
      "Данные получечны: Дубай\n",
      "Данные получечны: Дубай\n",
      "Данные получечны: Дубай\n",
      "Данные получечны: Дубай\n",
      "Данные получечны: Сочи\n",
      "Данные получечны: Сочи\n",
      "Данные получечны: Сочи\n",
      "Данные получечны: Сочи\n",
      "Данные получечны: Сочи\n",
      "Данные получечны: Сочи\n",
      "Данные получечны: Сочи\n"
     ]
    },
    {
     "data": {
      "text/plain": [
       "[None, None, None, None, None, None, None, None, None, None, None, None, None]"
      ]
     },
     "execution_count": 13,
     "metadata": {},
     "output_type": "execute_result"
    }
   ],
   "source": [
    "await asyncio.gather(\n",
    "    get_data_from_db_async(\"Сочи\"),\n",
    "    get_data_from_db_async(\"Сочи\"),\n",
    "    get_data_from_db_async(\"Сочи\"),\n",
    "    get_data_from_db_async(\"Сочи\"),\n",
    "    get_data_from_db_async(\"Сочи\"),\n",
    "    get_data_from_db_async(\"Сочи\"),\n",
    "    get_data_from_db_async(\"Сочи\"),\n",
    "    get_data_from_db_async(\"Дубай\"),\n",
    "    get_data_from_db_async(\"Дубай\"),\n",
    "    get_data_from_db_async(\"Дубай\"),\n",
    "    get_data_from_db_async(\"Дубай\"),\n",
    "    get_data_from_db_async(\"Дубай\"),\n",
    "    get_data_from_db_async(\"Дубай\")\n",
    ")"
   ]
  },
  {
   "cell_type": "code",
   "execution_count": null,
   "metadata": {},
   "outputs": [],
   "source": []
  }
 ],
 "metadata": {
  "kernelspec": {
   "display_name": ".bc_env",
   "language": "python",
   "name": "python3"
  },
  "language_info": {
   "codemirror_mode": {
    "name": "ipython",
    "version": 3
   },
   "file_extension": ".py",
   "mimetype": "text/x-python",
   "name": "python",
   "nbconvert_exporter": "python",
   "pygments_lexer": "ipython3",
   "version": "3.12.2"
  }
 },
 "nbformat": 4,
 "nbformat_minor": 2
}
